{
 "cells": [
  {
   "cell_type": "markdown",
   "metadata": {},
   "source": [
    "# Getting metadata of audio files using PyDub \n",
    "Metadata of audio files are obtained for each file to obtain the loudness level measured in dBFS so that it can be normalised to a specified value later"
   ]
  },
  {
   "cell_type": "code",
   "execution_count": 1,
   "metadata": {},
   "outputs": [
    {
     "name": "stderr",
     "output_type": "stream",
     "text": [
      "/Users/jannaha/anaconda3/lib/python3.10/site-packages/pydub/utils.py:170: RuntimeWarning: Couldn't find ffmpeg or avconv - defaulting to ffmpeg, but may not work\n",
      "  warn(\"Couldn't find ffmpeg or avconv - defaulting to ffmpeg, but may not work\", RuntimeWarning)\n"
     ]
    }
   ],
   "source": [
    "import pandas as pd\n",
    "import numpy as np\n",
    "import os\n",
    "from os.path import join\n",
    "from pydub import AudioSegment\n",
    "from pydub import AudioSegment, silence"
   ]
  },
  {
   "cell_type": "code",
   "execution_count": 2,
   "metadata": {},
   "outputs": [],
   "source": [
    "#Specify folder path where edited audio files (removal of leading and trailing silences) were stored in \n",
    "audiofolder_path = '/Users/jannaha/Desktop/audio_files/output'"
   ]
  },
  {
   "cell_type": "code",
   "execution_count": 3,
   "metadata": {},
   "outputs": [],
   "source": [
    "#Path to excel file with data on audio files. Data includes name of wavefiles with .wav extension, word and selected token number\n",
    "excel_file = '/Users/jannaha/Desktop/audio_files/wavefiles.xlsx'"
   ]
  },
  {
   "cell_type": "code",
   "execution_count": 4,
   "metadata": {},
   "outputs": [],
   "source": [
    "df = pd.read_excel(excel_file)"
   ]
  },
  {
   "cell_type": "code",
   "execution_count": 5,
   "metadata": {},
   "outputs": [
    {
     "data": {
      "text/plain": [
       "(13, 5)"
      ]
     },
     "execution_count": 5,
     "metadata": {},
     "output_type": "execute_result"
    }
   ],
   "source": [
    "df.shape"
   ]
  },
  {
   "cell_type": "code",
   "execution_count": 6,
   "metadata": {},
   "outputs": [
    {
     "data": {
      "text/html": [
       "<div>\n",
       "<style scoped>\n",
       "    .dataframe tbody tr th:only-of-type {\n",
       "        vertical-align: middle;\n",
       "    }\n",
       "\n",
       "    .dataframe tbody tr th {\n",
       "        vertical-align: top;\n",
       "    }\n",
       "\n",
       "    .dataframe thead th {\n",
       "        text-align: right;\n",
       "    }\n",
       "</style>\n",
       "<table border=\"1\" class=\"dataframe\">\n",
       "  <thead>\n",
       "    <tr style=\"text-align: right;\">\n",
       "      <th></th>\n",
       "      <th>Unnamed: 0</th>\n",
       "      <th>wavefile</th>\n",
       "      <th>word</th>\n",
       "      <th>token_no</th>\n",
       "      <th>new-wavefile</th>\n",
       "    </tr>\n",
       "  </thead>\n",
       "  <tbody>\n",
       "    <tr>\n",
       "      <th>0</th>\n",
       "      <td>0</td>\n",
       "      <td>001 Saya 01.wav</td>\n",
       "      <td>saya</td>\n",
       "      <td>1</td>\n",
       "      <td>001 Saya 01-new.wav</td>\n",
       "    </tr>\n",
       "    <tr>\n",
       "      <th>1</th>\n",
       "      <td>1</td>\n",
       "      <td>002 kita 01.wav</td>\n",
       "      <td>kita</td>\n",
       "      <td>1</td>\n",
       "      <td>002 kita 01-new.wav</td>\n",
       "    </tr>\n",
       "    <tr>\n",
       "      <th>2</th>\n",
       "      <td>2</td>\n",
       "      <td>003 kalau 01.wav</td>\n",
       "      <td>kalau</td>\n",
       "      <td>1</td>\n",
       "      <td>003 kalau 01-new.wav</td>\n",
       "    </tr>\n",
       "    <tr>\n",
       "      <th>3</th>\n",
       "      <td>3</td>\n",
       "      <td>004 jadi 01.wav</td>\n",
       "      <td>jadi</td>\n",
       "      <td>1</td>\n",
       "      <td>004 jadi 01-new.wav</td>\n",
       "    </tr>\n",
       "    <tr>\n",
       "      <th>4</th>\n",
       "      <td>4</td>\n",
       "      <td>005 tapi 01.wav</td>\n",
       "      <td>tapi</td>\n",
       "      <td>1</td>\n",
       "      <td>005 tapi 01-new.wav</td>\n",
       "    </tr>\n",
       "  </tbody>\n",
       "</table>\n",
       "</div>"
      ],
      "text/plain": [
       "   Unnamed: 0          wavefile   word  token_no          new-wavefile\n",
       "0           0   001 Saya 01.wav   saya         1   001 Saya 01-new.wav\n",
       "1           1   002 kita 01.wav   kita         1   002 kita 01-new.wav\n",
       "2           2  003 kalau 01.wav  kalau         1  003 kalau 01-new.wav\n",
       "3           3   004 jadi 01.wav   jadi         1   004 jadi 01-new.wav\n",
       "4           4   005 tapi 01.wav   tapi         1   005 tapi 01-new.wav"
      ]
     },
     "execution_count": 6,
     "metadata": {},
     "output_type": "execute_result"
    }
   ],
   "source": [
    "df.head()"
   ]
  },
  {
   "cell_type": "code",
   "execution_count": 7,
   "metadata": {},
   "outputs": [],
   "source": [
    "#adding new column with -new appended to wavfile name \n",
    "#this new-wavefile column represents the files where leading and trailing silences were deleted\n",
    "audiofile = df['wavefile']\n",
    "df['new-wavefile'] = df['wavefile'].str[:-4] + '-new.wav'"
   ]
  },
  {
   "cell_type": "code",
   "execution_count": 8,
   "metadata": {},
   "outputs": [
    {
     "data": {
      "text/html": [
       "<div>\n",
       "<style scoped>\n",
       "    .dataframe tbody tr th:only-of-type {\n",
       "        vertical-align: middle;\n",
       "    }\n",
       "\n",
       "    .dataframe tbody tr th {\n",
       "        vertical-align: top;\n",
       "    }\n",
       "\n",
       "    .dataframe thead th {\n",
       "        text-align: right;\n",
       "    }\n",
       "</style>\n",
       "<table border=\"1\" class=\"dataframe\">\n",
       "  <thead>\n",
       "    <tr style=\"text-align: right;\">\n",
       "      <th></th>\n",
       "      <th>Unnamed: 0</th>\n",
       "      <th>wavefile</th>\n",
       "      <th>word</th>\n",
       "      <th>token_no</th>\n",
       "      <th>new-wavefile</th>\n",
       "    </tr>\n",
       "  </thead>\n",
       "  <tbody>\n",
       "    <tr>\n",
       "      <th>0</th>\n",
       "      <td>0</td>\n",
       "      <td>001 Saya 01.wav</td>\n",
       "      <td>saya</td>\n",
       "      <td>1</td>\n",
       "      <td>001 Saya 01-new.wav</td>\n",
       "    </tr>\n",
       "    <tr>\n",
       "      <th>1</th>\n",
       "      <td>1</td>\n",
       "      <td>002 kita 01.wav</td>\n",
       "      <td>kita</td>\n",
       "      <td>1</td>\n",
       "      <td>002 kita 01-new.wav</td>\n",
       "    </tr>\n",
       "    <tr>\n",
       "      <th>2</th>\n",
       "      <td>2</td>\n",
       "      <td>003 kalau 01.wav</td>\n",
       "      <td>kalau</td>\n",
       "      <td>1</td>\n",
       "      <td>003 kalau 01-new.wav</td>\n",
       "    </tr>\n",
       "    <tr>\n",
       "      <th>3</th>\n",
       "      <td>3</td>\n",
       "      <td>004 jadi 01.wav</td>\n",
       "      <td>jadi</td>\n",
       "      <td>1</td>\n",
       "      <td>004 jadi 01-new.wav</td>\n",
       "    </tr>\n",
       "    <tr>\n",
       "      <th>4</th>\n",
       "      <td>4</td>\n",
       "      <td>005 tapi 01.wav</td>\n",
       "      <td>tapi</td>\n",
       "      <td>1</td>\n",
       "      <td>005 tapi 01-new.wav</td>\n",
       "    </tr>\n",
       "  </tbody>\n",
       "</table>\n",
       "</div>"
      ],
      "text/plain": [
       "   Unnamed: 0          wavefile   word  token_no          new-wavefile\n",
       "0           0   001 Saya 01.wav   saya         1   001 Saya 01-new.wav\n",
       "1           1   002 kita 01.wav   kita         1   002 kita 01-new.wav\n",
       "2           2  003 kalau 01.wav  kalau         1  003 kalau 01-new.wav\n",
       "3           3   004 jadi 01.wav   jadi         1   004 jadi 01-new.wav\n",
       "4           4   005 tapi 01.wav   tapi         1   005 tapi 01-new.wav"
      ]
     },
     "execution_count": 8,
     "metadata": {},
     "output_type": "execute_result"
    }
   ],
   "source": [
    "df.head()"
   ]
  },
  {
   "cell_type": "code",
   "execution_count": 9,
   "metadata": {},
   "outputs": [],
   "source": [
    "#saves this df as a new excel file\n",
    "df.to_excel(excel_file, 'Sheet1')"
   ]
  },
  {
   "cell_type": "markdown",
   "metadata": {},
   "source": [
    "Creating a new dataframe called df_att to store metadata of each audio file \n",
    "Metadata includes:\n",
    "1. Bytes sample \n",
    "2. Number of channels (should correspond to 1 -- representing mono format files)\n",
    "3. Frame size (should correspond to 44.1kHz)\n",
    "4. RMS\n",
    "5. DBFS (This is the level of loudness of each audio file)\n",
    "6. Peak amplitude\n",
    "7. Total length of audio file in milliseconds "
   ]
  },
  {
   "cell_type": "code",
   "execution_count": 10,
   "metadata": {},
   "outputs": [],
   "source": [
    "#create an empty dataframe of soundfile attributes\n",
    "df_att = pd.DataFrame(columns = ['sample','channels','frames','rms','dbfs','peak_amp','total_len'])"
   ]
  },
  {
   "cell_type": "code",
   "execution_count": 11,
   "metadata": {},
   "outputs": [],
   "source": [
    "def get_info():\n",
    "    for i in df.index:\n",
    "        new_audiofile = df.loc[i,'new-wavefile']\n",
    "        wavefile_path = os.path.join(audiofolder_path, new_audiofile)\n",
    "        \n",
    "        #checks if file exists in the specified folder \n",
    "        if not os.path.isfile(wavefile_path):\n",
    "            print(f\"{wavefile_path} does not exist.\")\n",
    "        \n",
    "        sound = AudioSegment.from_file(wavefile_path)\n",
    "        \n",
    "        bytes_per_sample = sound.sample_width\n",
    "        channel_count = sound.channels\n",
    "        frames_per_second = sound.frame_rate\n",
    "        loudness = sound.rms\n",
    "        dbfs_loudness = sound.dBFS\n",
    "        peak_amplitude = sound.max\n",
    "        total_len = len(sound)\n",
    "        \n",
    "        df_att.loc[i] = [bytes_per_sample,channel_count,frames_per_second, loudness, dbfs_loudness,peak_amplitude, total_len]\n"
   ]
  },
  {
   "cell_type": "code",
   "execution_count": 12,
   "metadata": {
    "scrolled": true
   },
   "outputs": [],
   "source": [
    "get_info()"
   ]
  },
  {
   "cell_type": "code",
   "execution_count": 13,
   "metadata": {},
   "outputs": [
    {
     "data": {
      "text/html": [
       "<div>\n",
       "<style scoped>\n",
       "    .dataframe tbody tr th:only-of-type {\n",
       "        vertical-align: middle;\n",
       "    }\n",
       "\n",
       "    .dataframe tbody tr th {\n",
       "        vertical-align: top;\n",
       "    }\n",
       "\n",
       "    .dataframe thead th {\n",
       "        text-align: right;\n",
       "    }\n",
       "</style>\n",
       "<table border=\"1\" class=\"dataframe\">\n",
       "  <thead>\n",
       "    <tr style=\"text-align: right;\">\n",
       "      <th></th>\n",
       "      <th>sample</th>\n",
       "      <th>channels</th>\n",
       "      <th>frames</th>\n",
       "      <th>rms</th>\n",
       "      <th>dbfs</th>\n",
       "      <th>peak_amp</th>\n",
       "      <th>total_len</th>\n",
       "    </tr>\n",
       "  </thead>\n",
       "  <tbody>\n",
       "    <tr>\n",
       "      <th>0</th>\n",
       "      <td>2.0</td>\n",
       "      <td>1.0</td>\n",
       "      <td>44100.0</td>\n",
       "      <td>874.0</td>\n",
       "      <td>-31.478770</td>\n",
       "      <td>5686.0</td>\n",
       "      <td>519.0</td>\n",
       "    </tr>\n",
       "    <tr>\n",
       "      <th>1</th>\n",
       "      <td>2.0</td>\n",
       "      <td>1.0</td>\n",
       "      <td>44100.0</td>\n",
       "      <td>474.0</td>\n",
       "      <td>-36.793432</td>\n",
       "      <td>3154.0</td>\n",
       "      <td>1043.0</td>\n",
       "    </tr>\n",
       "    <tr>\n",
       "      <th>2</th>\n",
       "      <td>2.0</td>\n",
       "      <td>1.0</td>\n",
       "      <td>44100.0</td>\n",
       "      <td>789.0</td>\n",
       "      <td>-32.367459</td>\n",
       "      <td>5335.0</td>\n",
       "      <td>397.0</td>\n",
       "    </tr>\n",
       "    <tr>\n",
       "      <th>3</th>\n",
       "      <td>2.0</td>\n",
       "      <td>1.0</td>\n",
       "      <td>44100.0</td>\n",
       "      <td>869.0</td>\n",
       "      <td>-31.528603</td>\n",
       "      <td>4919.0</td>\n",
       "      <td>623.0</td>\n",
       "    </tr>\n",
       "    <tr>\n",
       "      <th>4</th>\n",
       "      <td>2.0</td>\n",
       "      <td>1.0</td>\n",
       "      <td>44100.0</td>\n",
       "      <td>519.0</td>\n",
       "      <td>-36.005652</td>\n",
       "      <td>3045.0</td>\n",
       "      <td>200.0</td>\n",
       "    </tr>\n",
       "  </tbody>\n",
       "</table>\n",
       "</div>"
      ],
      "text/plain": [
       "   sample  channels   frames    rms       dbfs  peak_amp  total_len\n",
       "0     2.0       1.0  44100.0  874.0 -31.478770    5686.0      519.0\n",
       "1     2.0       1.0  44100.0  474.0 -36.793432    3154.0     1043.0\n",
       "2     2.0       1.0  44100.0  789.0 -32.367459    5335.0      397.0\n",
       "3     2.0       1.0  44100.0  869.0 -31.528603    4919.0      623.0\n",
       "4     2.0       1.0  44100.0  519.0 -36.005652    3045.0      200.0"
      ]
     },
     "execution_count": 13,
     "metadata": {},
     "output_type": "execute_result"
    }
   ],
   "source": [
    "df_att.head()"
   ]
  },
  {
   "cell_type": "code",
   "execution_count": 16,
   "metadata": {},
   "outputs": [],
   "source": [
    "#creating excel writer\n",
    "write_to = '/Users/jannaha/Desktop/audio_files/output/metadata_delsilence.xlsx'\n",
    "\n",
    "#writing dataframe to excelsheet, named sheet 1\n",
    "df_att.to_excel(write_to, index=False)"
   ]
  },
  {
   "cell_type": "code",
   "execution_count": null,
   "metadata": {},
   "outputs": [],
   "source": []
  },
  {
   "cell_type": "code",
   "execution_count": null,
   "metadata": {},
   "outputs": [],
   "source": []
  }
 ],
 "metadata": {
  "kernelspec": {
   "display_name": "Python 3 (ipykernel)",
   "language": "python",
   "name": "python3"
  },
  "language_info": {
   "codemirror_mode": {
    "name": "ipython",
    "version": 3
   },
   "file_extension": ".py",
   "mimetype": "text/x-python",
   "name": "python",
   "nbconvert_exporter": "python",
   "pygments_lexer": "ipython3",
   "version": "3.10.9"
  }
 },
 "nbformat": 4,
 "nbformat_minor": 4
}
