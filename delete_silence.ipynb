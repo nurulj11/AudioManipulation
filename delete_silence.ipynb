{
 "cells": [
  {
   "cell_type": "markdown",
   "id": "f34102d3",
   "metadata": {},
   "source": [
    "The goal of this code is to remove leading and trailing silences of a list of 461 audio files by performing the following:\n",
    "1. Remove any leading or trailing silences in the duration of an entire audio file, with the silence threshold set at -40dBFS i.e. any segments with loudness of -40dBFS or lower will be regarded as a silent portion\n",
    "2. Creating a new excel sheet with the (1) duration "
   ]
  },
  {
   "cell_type": "code",
   "execution_count": 1,
   "id": "5eecb707",
   "metadata": {},
   "outputs": [
    {
     "name": "stderr",
     "output_type": "stream",
     "text": [
      "/Users/jannaha/anaconda3/lib/python3.10/site-packages/pydub/utils.py:170: RuntimeWarning: Couldn't find ffmpeg or avconv - defaulting to ffmpeg, but may not work\n",
      "  warn(\"Couldn't find ffmpeg or avconv - defaulting to ffmpeg, but may not work\", RuntimeWarning)\n"
     ]
    }
   ],
   "source": [
    "import pandas as pd\n",
    "import numpy as np\n",
    "import os\n",
    "from pydub import AudioSegment\n",
    "from pydub import AudioSegment, silence\n",
    "from os.path import join"
   ]
  },
  {
   "cell_type": "code",
   "execution_count": 2,
   "id": "8ed7237d",
   "metadata": {},
   "outputs": [],
   "source": [
    "#Specify folder path where original audio files are stored \n",
    "audio_folder = '/Users/jen/OneDrive - National University of Singapore/Coding/Phase_2_Analysis/del_silence'"
   ]
  },
  {
   "cell_type": "code",
   "execution_count": 3,
   "id": "504abf89",
   "metadata": {},
   "outputs": [],
   "source": [
    "#Specify folder path where manipulated audio files will be stored\n",
    "output_folder = '/Users/jen/OneDrive - National University of Singapore/Coding/Phase_2_Analysis/del_silence/del_silence_output'"
   ]
  },
  {
   "cell_type": "code",
   "execution_count": 4,
   "id": "7acf9382",
   "metadata": {},
   "outputs": [],
   "source": [
    "#Path of excel file where list of audio file names (.wav) are stored\n",
    "excel_file = '/Users/jen/OneDrive - National University of Singapore/Coding/Phase_2_Analysis/del_silence.xlsx'"
   ]
  },
  {
   "cell_type": "code",
   "execution_count": 5,
   "id": "e122324b",
   "metadata": {},
   "outputs": [],
   "source": [
    "df = pd.read_excel(excel_file)"
   ]
  },
  {
   "cell_type": "code",
   "execution_count": 6,
   "id": "456b57d8",
   "metadata": {},
   "outputs": [
    {
     "data": {
      "text/html": [
       "<div>\n",
       "<style scoped>\n",
       "    .dataframe tbody tr th:only-of-type {\n",
       "        vertical-align: middle;\n",
       "    }\n",
       "\n",
       "    .dataframe tbody tr th {\n",
       "        vertical-align: top;\n",
       "    }\n",
       "\n",
       "    .dataframe thead th {\n",
       "        text-align: right;\n",
       "    }\n",
       "</style>\n",
       "<table border=\"1\" class=\"dataframe\">\n",
       "  <thead>\n",
       "    <tr style=\"text-align: right;\">\n",
       "      <th></th>\n",
       "      <th>wavefile</th>\n",
       "      <th>word</th>\n",
       "      <th>token_no</th>\n",
       "    </tr>\n",
       "  </thead>\n",
       "  <tbody>\n",
       "    <tr>\n",
       "      <th>0</th>\n",
       "      <td>001saya03.wav</td>\n",
       "      <td>saya</td>\n",
       "      <td>3</td>\n",
       "    </tr>\n",
       "    <tr>\n",
       "      <th>1</th>\n",
       "      <td>002kita03.wav</td>\n",
       "      <td>kita</td>\n",
       "      <td>3</td>\n",
       "    </tr>\n",
       "    <tr>\n",
       "      <th>2</th>\n",
       "      <td>003kalau03.wav</td>\n",
       "      <td>kalau</td>\n",
       "      <td>3</td>\n",
       "    </tr>\n",
       "    <tr>\n",
       "      <th>3</th>\n",
       "      <td>004jadi03.wav</td>\n",
       "      <td>jadi</td>\n",
       "      <td>3</td>\n",
       "    </tr>\n",
       "    <tr>\n",
       "      <th>4</th>\n",
       "      <td>005tapi02.wav</td>\n",
       "      <td>tapi</td>\n",
       "      <td>2</td>\n",
       "    </tr>\n",
       "  </tbody>\n",
       "</table>\n",
       "</div>"
      ],
      "text/plain": [
       "         wavefile   word  token_no\n",
       "0   001saya03.wav   saya         3\n",
       "1   002kita03.wav   kita         3\n",
       "2  003kalau03.wav  kalau         3\n",
       "3   004jadi03.wav   jadi         3\n",
       "4   005tapi02.wav   tapi         2"
      ]
     },
     "execution_count": 6,
     "metadata": {},
     "output_type": "execute_result"
    }
   ],
   "source": [
    "df.head()"
   ]
  },
  {
   "cell_type": "code",
   "execution_count": 8,
   "id": "5da459a3",
   "metadata": {},
   "outputs": [
    {
     "data": {
      "text/plain": [
       "(461, 3)"
      ]
     },
     "execution_count": 8,
     "metadata": {},
     "output_type": "execute_result"
    }
   ],
   "source": [
    "#Number of rows corresponds to number of audio (.wav) files in folder are stored in \n",
    "df.shape"
   ]
  },
  {
   "cell_type": "code",
   "execution_count": 9,
   "id": "1be071c3",
   "metadata": {},
   "outputs": [],
   "source": [
    "#Creating a new dataframe to store metadata or attributes of each audio file \n",
    "#The duration of original audio file, timestamp where silence is at is added as columns in df2 dataframe\n",
    "df2 = pd.DataFrame(columns = ['duration', 'silence', 'new_duration','new_RMS'])"
   ]
  },
  {
   "cell_type": "code",
   "execution_count": 10,
   "id": "60300d42",
   "metadata": {},
   "outputs": [],
   "source": [
    "def get_info():\n",
    "    for i in df.index:\n",
    "        audiofile = df.loc[i, 'wavefile']\n",
    "        wavefile_path = os.path.join(audio_folder, audiofile)\n",
    "        \n",
    "        #check if wavefile path exists: ## out after using \n",
    "        ##print(os.path.isfile(wavefile_path))\n",
    "        \n",
    "        sound = AudioSegment.from_file(wavefile_path)\n",
    "        \n",
    "        #search for sections with silences, silence threshold set at -40dBFS\n",
    "        silence_dur = silence.detect_silence(sound, min_silence_len= 50, silence_thresh=-50, seek_step =1)\n",
    "        total_dur = len(sound)\n",
    "        list_count = len(silence_dur)\n",
    "        \n",
    "        #if else statement to remove only leading and trailing silences rather than silences in between word utterance\n",
    "        if list_count == 1:\n",
    "            new_file = sound[:int(silence_dur[0][0])]\n",
    "            new_file_path = output_folder + \"/\" + audiofile[:-4] + \"-new.wav\"\n",
    "            new_file.export(new_file_path, format = \"wav\")\n",
    "            new_sound = AudioSegment.from_file(new_file_path)\n",
    "        elif list_count > 1:\n",
    "            new_file = sound[int(silence_dur[0][1]):int(silence_dur[-1][0])]\n",
    "            new_file_path = output_folder + \"/\" + audiofile[:-4] + \"-new.wav\"\n",
    "            new_file.export(new_file_path, format = \"wav\")\n",
    "            new_sound = AudioSegment.from_file(new_file_path)\n",
    "        \n",
    "        newfile_dur = len(new_sound)\n",
    "        dbfs_loudness = new_sound.dBFS\n",
    "        \n",
    "        df2.loc[i] = [total_dur, silence_dur, new_file_dur, dbfs_loudness]\n"
   ]
  },
  {
   "cell_type": "code",
   "execution_count": 12,
   "id": "04e0c05f",
   "metadata": {},
   "outputs": [],
   "source": [
    "get_info()"
   ]
  },
  {
   "cell_type": "code",
   "execution_count": 13,
   "id": "ff3767b9",
   "metadata": {},
   "outputs": [
    {
     "data": {
      "text/html": [
       "<div>\n",
       "<style scoped>\n",
       "    .dataframe tbody tr th:only-of-type {\n",
       "        vertical-align: middle;\n",
       "    }\n",
       "\n",
       "    .dataframe tbody tr th {\n",
       "        vertical-align: top;\n",
       "    }\n",
       "\n",
       "    .dataframe thead th {\n",
       "        text-align: right;\n",
       "    }\n",
       "</style>\n",
       "<table border=\"1\" class=\"dataframe\">\n",
       "  <thead>\n",
       "    <tr style=\"text-align: right;\">\n",
       "      <th></th>\n",
       "      <th>duration</th>\n",
       "      <th>silence</th>\n",
       "    </tr>\n",
       "  </thead>\n",
       "  <tbody>\n",
       "    <tr>\n",
       "      <th>0</th>\n",
       "      <td>690</td>\n",
       "      <td>[[526, 690]]</td>\n",
       "    </tr>\n",
       "    <tr>\n",
       "      <th>1</th>\n",
       "      <td>703</td>\n",
       "      <td>[[0, 68], [95, 161], [287, 379], [582, 703]]</td>\n",
       "    </tr>\n",
       "    <tr>\n",
       "      <th>2</th>\n",
       "      <td>1024</td>\n",
       "      <td>[[0, 124], [719, 807], [967, 1024]]</td>\n",
       "    </tr>\n",
       "    <tr>\n",
       "      <th>3</th>\n",
       "      <td>670</td>\n",
       "      <td>[[532, 649]]</td>\n",
       "    </tr>\n",
       "    <tr>\n",
       "      <th>4</th>\n",
       "      <td>527</td>\n",
       "      <td>[[0, 56], [185, 319], [398, 527]]</td>\n",
       "    </tr>\n",
       "  </tbody>\n",
       "</table>\n",
       "</div>"
      ],
      "text/plain": [
       "  duration                                       silence\n",
       "0      690                                  [[526, 690]]\n",
       "1      703  [[0, 68], [95, 161], [287, 379], [582, 703]]\n",
       "2     1024           [[0, 124], [719, 807], [967, 1024]]\n",
       "3      670                                  [[532, 649]]\n",
       "4      527             [[0, 56], [185, 319], [398, 527]]"
      ]
     },
     "execution_count": 13,
     "metadata": {},
     "output_type": "execute_result"
    }
   ],
   "source": [
    "df2.head()"
   ]
  },
  {
   "cell_type": "code",
   "execution_count": 14,
   "id": "b00f70f8",
   "metadata": {},
   "outputs": [],
   "source": [
    "#creating excel writer\n",
    "write_to = pd.ExcelWriter('silence_output.xlsx')\n",
    "\n",
    "#writing dataframe to excel sheet, named Sheet 1\n",
    "df2.to_excel(write_to, 'Sheet1')\n",
    "\n",
    "#save excel file\n",
    "write_to.save()"
   ]
  },
  {
   "cell_type": "code",
   "execution_count": null,
   "id": "10961975",
   "metadata": {},
   "outputs": [],
   "source": []
  }
 ],
 "metadata": {
  "kernelspec": {
   "display_name": "Python 3 (ipykernel)",
   "language": "python",
   "name": "python3"
  },
  "language_info": {
   "codemirror_mode": {
    "name": "ipython",
    "version": 3
   },
   "file_extension": ".py",
   "mimetype": "text/x-python",
   "name": "python",
   "nbconvert_exporter": "python",
   "pygments_lexer": "ipython3",
   "version": "3.10.9"
  }
 },
 "nbformat": 4,
 "nbformat_minor": 5
}
